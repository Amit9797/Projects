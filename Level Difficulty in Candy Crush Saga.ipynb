{
 "cells": [
  {
   "cell_type": "markdown",
   "metadata": {
    "dc": {
     "key": "3"
    },
    "deletable": false,
    "editable": false,
    "run_control": {
     "frozen": true
    },
    "tags": [
     "context"
    ]
   },
   "source": [
    "## 1. Candy Crush Saga\n",
    "<p><a href=\"https://king.com/game/candycrush\">Candy Crush Saga</a> is a hit mobile game developed by King (part of Activision|Blizzard) that is played by millions of people all around the world. The game is structured as a series of levels where players need to match similar candy together to (hopefully) clear the level and keep progressing on the level map. If you are one of the few that haven't played Candy Crush, here's a short demo:</p>\n",
    "<p><a href=\"https://youtu.be/HGLGxnfs_t8\"><img src=\"https://assets.datacamp.com/production/project_139/img/candy_crush_video.jpeg\" alt=\"\"></a></p>\n",
    "<p>Candy Crush has more than 3000 levels, and new ones are added every week. That is a lot of levels! And with that many levels, it's important to get <em>level difficulty</em> just right. Too easy and the game gets boring, too hard and players become frustrated and quit playing.</p>\n",
    "<p>In this project, we will see how we can use data collected from players to estimate level difficulty. Let's start by loading in the packages we're going to need.</p>"
   ]
  },
  {
   "cell_type": "code",
   "execution_count": 3,
   "metadata": {
    "dc": {
     "key": "3"
    },
    "tags": [
     "sample_code"
    ]
   },
   "outputs": [
    {
     "name": "stderr",
     "output_type": "stream",
     "text": [
      "Registered S3 methods overwritten by 'ggplot2':\n",
      "  method         from \n",
      "  [.quosures     rlang\n",
      "  c.quosures     rlang\n",
      "  print.quosures rlang\n",
      "Registered S3 method overwritten by 'rvest':\n",
      "  method            from\n",
      "  read_xml.response xml2\n",
      "-- Attaching packages --------------------------------------- tidyverse 1.2.1 --\n",
      "v ggplot2 3.1.1       v purrr   0.3.2  \n",
      "v tibble  2.1.1       v dplyr   0.8.0.1\n",
      "v tidyr   0.8.3       v stringr 1.4.0  \n",
      "v readr   1.3.1       v forcats 0.4.0  \n",
      "-- Conflicts ------------------------------------------ tidyverse_conflicts() --\n",
      "x dplyr::filter() masks stats::filter()\n",
      "x dplyr::lag()    masks stats::lag()\n"
     ]
    }
   ],
   "source": [
    "# This sets the size of plots to a good default.\n",
    "options(repr.plot.width = 5, repr.plot.height = 4)\n",
    "\n",
    "# Loading in packages\n",
    "# .... YOUR CODE FOR TASK 1 ....\n",
    "library(tidyverse)"
   ]
  },
  {
   "cell_type": "markdown",
   "metadata": {
    "dc": {
     "key": "10"
    },
    "deletable": false,
    "editable": false,
    "run_control": {
     "frozen": true
    },
    "tags": [
     "context"
    ]
   },
   "source": [
    "## 2. The data set\n",
    "<p>The dataset we will use contains one week of data from a sample of players who played Candy Crush back in 2014. The data is also from a single <em>episode</em>, that is, a set of 15 levels. It has the following columns:</p>\n",
    "<ul>\n",
    "<li><strong>player_id</strong>: a unique player id</li>\n",
    "<li><strong>dt</strong>: the date</li>\n",
    "<li><strong>level</strong>: the level number within the episode, from 1 to 15.</li>\n",
    "<li><strong>num_attempts</strong>: number of level attempts for the player on that level and date.</li>\n",
    "<li><strong>num_success</strong>: number of level attempts that resulted in a success/win for the player on that level and date.</li>\n",
    "</ul>\n",
    "<p>The granularity of the dataset is player, date, and level. That is, there is a row for every player, day, and level recording the total number of attempts and how many of those resulted in a win.</p>\n",
    "<p>Now, let's load in the dataset and take a look at the first couple of rows. </p>"
   ]
  },
  {
   "cell_type": "code",
   "execution_count": 4,
   "metadata": {
    "dc": {
     "key": "10"
    },
    "tags": [
     "sample_code"
    ]
   },
   "outputs": [
    {
     "name": "stderr",
     "output_type": "stream",
     "text": [
      "Parsed with column specification:\n",
      "cols(\n",
      "  player_id = col_character(),\n",
      "  dt = col_date(format = \"\"),\n",
      "  level = col_double(),\n",
      "  num_attempts = col_double(),\n",
      "  num_success = col_double()\n",
      ")\n"
     ]
    },
    {
     "name": "stdout",
     "output_type": "stream",
     "text": [
      "# A tibble: 6 x 5\n",
      "  player_id                        dt         level num_attempts num_success\n",
      "  <chr>                            <date>     <dbl>        <dbl>       <dbl>\n",
      "1 0098ec5725cc2eba7ffb58ca0c77e914 2014-01-06     5            3           1\n",
      "2 e3e95924b152d5d2b0fcf0cc2b8a4261 2014-01-07    15            1           1\n",
      "3 712d953e972844194475f21b9352c1ab 2014-01-01     8            2           0\n",
      "4 7fad6b6c0d8c8a5ef69f467511b5262c 2014-01-01     9           10           1\n",
      "5 323676bf93f40dda0a96cba8c73c1478 2014-01-06    14            1           1\n",
      "6 cda5e442e086f0b9f8d19b18177e4099 2014-01-01     1            1           1\n"
     ]
    }
   ],
   "source": [
    "# Reading in the data\n",
    "data <- read_csv(\"datasets/candy_crush.csv\")\n",
    "\n",
    "# Printing out the first couple of rows\n",
    "# .... YOUR CODE FOR TASK 2 ....\n",
    "print(tail(data))"
   ]
  },
  {
   "cell_type": "markdown",
   "metadata": {
    "dc": {
     "key": "17"
    },
    "deletable": false,
    "editable": false,
    "run_control": {
     "frozen": true
    },
    "tags": [
     "context"
    ]
   },
   "source": [
    "## 3. Checking the data set\n",
    "<p>Now that we have loaded the dataset let's count how many players we have in the sample and how many days worth of data we have.</p>"
   ]
  },
  {
   "cell_type": "code",
   "execution_count": 5,
   "metadata": {
    "dc": {
     "key": "17"
    },
    "tags": [
     "sample_code"
    ]
   },
   "outputs": [
    {
     "name": "stdout",
     "output_type": "stream",
     "text": [
      "[1] \"Number of players:\"\n"
     ]
    },
    {
     "data": {
      "text/html": [
       "16865"
      ],
      "text/latex": [
       "16865"
      ],
      "text/markdown": [
       "16865"
      ],
      "text/plain": [
       "[1] 16865"
      ]
     },
     "metadata": {},
     "output_type": "display_data"
    },
    {
     "name": "stdout",
     "output_type": "stream",
     "text": [
      "[1] \"Period for which we have data:\"\n"
     ]
    },
    {
     "data": {
      "text/plain": [
       "Time difference of 6 days"
      ]
     },
     "metadata": {},
     "output_type": "display_data"
    }
   ],
   "source": [
    "print(\"Number of players:\")\n",
    "# .... YOUR CODE FOR TASK 3 ....\n",
    "nrow(data)\n",
    "print(\"Period for which we have data:\")\n",
    "# .... YOUR CODE FOR TASK 3 ....\n",
    "(max(data$dt)-min(data$dt))"
   ]
  },
  {
   "cell_type": "markdown",
   "metadata": {
    "dc": {
     "key": "24"
    },
    "deletable": false,
    "editable": false,
    "run_control": {
     "frozen": true
    },
    "tags": [
     "context"
    ]
   },
   "source": [
    "## 4. Computing level difficulty\n",
    "<p>Within each Candy Crush episode, there is a mix of easier and tougher levels. Luck and individual skill make the number of attempts required to pass a level different from player to player. The assumption is that difficult levels require more attempts on average than easier ones. That is, <em>the harder</em> a level is, <em>the lower</em> the probability to pass that level in a single attempt is.</p>\n",
    "<p>A simple approach to model this probability is as a <a href=\"https://en.wikipedia.org/wiki/Bernoulli_process\">Bernoulli process</a>; as a binary outcome (you either win or lose) characterized by a single parameter <em>p<sub>win</sub></em>: the probability of winning the level in a single attempt. This probability can be estimated for each level as:</p>\n",
    "<p><img src=\"https://assets.datacamp.com/production/project_139/img/latex1.png\" style=\"width:150px\"></p>\n",
    "<!-- $$p_{win} = \\frac{\\sum wins}{\\sum attempts}$$ -->\n",
    "<p>For example, let's say a level has been played 10 times and 2 of those attempts ended up in a victory. Then the probability of winning in a single attempt would be <em>p<sub>win</sub></em> = 2 / 10 = 20%.</p>\n",
    "<p>Now, let's compute the difficulty <em>p<sub>win</sub></em> separately for each of the 15 levels.</p>"
   ]
  },
  {
   "cell_type": "code",
   "execution_count": 6,
   "metadata": {
    "dc": {
     "key": "24"
    },
    "tags": [
     "sample_code"
    ]
   },
   "outputs": [
    {
     "name": "stdout",
     "output_type": "stream",
     "text": [
      "# A tibble: 15 x 4\n",
      "   level attempts  wins  p_win\n",
      "   <dbl>    <dbl> <dbl>  <dbl>\n",
      " 1     1     1322   818 0.619 \n",
      " 2     2     1285   666 0.518 \n",
      " 3     3     1546   662 0.428 \n",
      " 4     4     1893   705 0.372 \n",
      " 5     5     6937   634 0.0914\n",
      " 6     6     1591   668 0.420 \n",
      " 7     7     4526   614 0.136 \n",
      " 8     8    15816   641 0.0405\n",
      " 9     9     8241   670 0.0813\n",
      "10    10     3282   617 0.188 \n",
      "11    11     5575   603 0.108 \n",
      "12    12     6868   659 0.0960\n",
      "13    13     1327   686 0.517 \n",
      "14    14     2772   777 0.280 \n",
      "15    15    30374  1157 0.0381\n"
     ]
    }
   ],
   "source": [
    "# Calculating level difficulty\n",
    "difficulty <- data %>% group_by(level)%>%summarise(attempts = sum(num_attempts) , wins = sum(num_success)) \n",
    "difficulty <- difficulty%>% mutate(p_win = wins/attempts)\n",
    "\n",
    "# Printing out the level difficulty\n",
    "# .... YOUR CODE FOR TASK 4 ....\n",
    "print(difficulty)"
   ]
  },
  {
   "cell_type": "markdown",
   "metadata": {
    "dc": {
     "key": "31"
    },
    "deletable": false,
    "editable": false,
    "run_control": {
     "frozen": true
    },
    "tags": [
     "context"
    ]
   },
   "source": [
    "## 5. Plotting difficulty profile\n",
    "<p><img src=\"https://assets.datacamp.com/production/project_139/img/tiffi.jpeg\" style=\"height:150px; float:left\"> </p>\n",
    "<p>Great! We now have the difficulty for all the 15 levels in the episode. Keep in mind that, as we measure difficulty as the probability to pass a level in a single attempt, a <em>lower</em> value (a smaller probability of winning the level) implies a <em>higher</em> level difficulty.</p>\n",
    "<p>Now that we have the difficulty of the episode we should plot it. Let's plot a line graph with the levels on the X-axis and the difficulty (<em>p<sub>win</sub></em>) on the Y-axis. We call this plot the <em>difficulty profile</em> of the episode.</p>"
   ]
  },
  {
   "cell_type": "code",
   "execution_count": 7,
   "metadata": {
    "dc": {
     "key": "31"
    },
    "tags": [
     "sample_code"
    ]
   },
   "outputs": [
    {
     "data": {
      "image/png": "[encoded data removed]",
      "text/plain": [
       "plot without title"
      ]
     },
     "metadata": {},
     "output_type": "display_data"
    }
   ],
   "source": [
    "# Plotting the level difficulty profile\n",
    "# .... YOUR CODE FOR TASK 5 ....\n",
    "ggplot(difficulty, aes(x = level, y = p_win))+ geom_line()+ scale_x_continuous(breaks = seq(1,15,1)) + scale_y_continuous(labels = scales::percent_format(accuracy = 1))"
   ]
  },
  {
   "cell_type": "markdown",
   "metadata": {
    "dc": {
     "key": "38"
    },
    "deletable": false,
    "editable": false,
    "run_control": {
     "frozen": true
    },
    "tags": [
     "context"
    ]
   },
   "source": [
    "## 6. Spotting hard levels\n",
    "<p>What constitutes a <em>hard</em> level is subjective. However, to keep things simple, we could define a threshold of difficulty, say 10%, and label levels with <em>p<sub>win</sub></em> &lt; 10% as <em>hard</em>. It's relatively easy to spot these hard levels on the plot, but we can make the plot more friendly by explicitly highlighting the hard levels.</p>"
   ]
  },
  {
   "cell_type": "code",
   "execution_count": 8,
   "metadata": {
    "dc": {
     "key": "38"
    },
    "tags": [
     "sample_code"
    ]
   },
   "outputs": [
    {
     "data": {
      "image/png": "[encoded data removed]",
      "text/plain": [
       "plot without title"
      ]
     },
     "metadata": {},
     "output_type": "display_data"
    }
   ],
   "source": [
    "# Adding points and a dashed line\n",
    "# .... YOUR CODE COPIED FROM TASK 5 ....\n",
    "ggplot(difficulty, aes(x = level, y = p_win))+\n",
    "geom_point()+ geom_line()+ scale_x_continuous(breaks = seq(1,15,1)) +\n",
    "scale_y_continuous(labels = scales::percent_format(accuracy = 1))+geom_hline(yintercept = 0.10)\n",
    "# .... YOUR CODE FOR TASK 6 ....\n"
   ]
  },
  {
   "cell_type": "markdown",
   "metadata": {
    "dc": {
     "key": "45"
    },
    "deletable": false,
    "editable": false,
    "run_control": {
     "frozen": true
    },
    "tags": [
     "context"
    ]
   },
   "source": [
    "## 7. Computing uncertainty\n",
    "<p><img src=\"https://assets.datacamp.com/production/project_139/img/mr_toffee.jpeg\" style=\"height:350px; float:right\"> </p>\n",
    "<p>As Data Scientists we should always report some measure of the uncertainty of any provided numbers. Maybe tomorrow, another sample will give us slightly different values for the difficulties? Here we will simply use the <a href=\"https://en.wikipedia.org/wiki/Standard_error\"><em>Standard error</em></a> as a measure of uncertainty:</p>\n",
    "<p><img src=\"https://assets.datacamp.com/production/project_139/img/latex2.png\" style=\"width:115px\"></p>\n",
    "<!-- $$\n",
    "\\sigma_{error} \\approx \\frac{\\sigma_{sample}}{\\sqrt{n}}\n",
    "$$ -->\n",
    "<p>Here <em>n</em> is the number of datapoints and <em>σ<sub>sample</sub></em> is the sample standard deviation. For a Bernoulli process, the sample standard deviation is: </p>\n",
    "<p><img src=\"https://assets.datacamp.com/production/project_139/img/latex3.png\" style=\"width:195px\"></p>\n",
    "<!-- $$\n",
    "\\sigma_{sample} = \\sqrt{p_{win} (1 - p_{win})} \n",
    "$$ -->\n",
    "<p>Therefore, we can calculate the standard error like this:</p>\n",
    "<p><img src=\"https://assets.datacamp.com/production/project_139/img/latex4.png\" style=\"width:195px\"></p>\n",
    "<!-- $$\n",
    "\\sigma_{error} \\approx \\sqrt{\\frac{p_{win}(1 - p_{win})}{n}}\n",
    "$$ -->\n",
    "<p>We already have all we need in the <code>difficulty</code> data frame! Every level has been played <em>n</em> number of times and we have their difficulty <em>p<sub>win</sub></em>. Now, let's calculate the standard error for each level.</p>"
   ]
  },
  {
   "cell_type": "code",
   "execution_count": 64,
   "metadata": {
    "collapsed": true,
    "dc": {
     "key": "45"
    },
    "tags": [
     "sample_code"
    ]
   },
   "outputs": [],
   "source": [
    "# Computing the standard error of p_win for each level\n",
    "difficulty <- difficulty %>% mutate(error = sqrt(p_win * (1 - p_win) / attempts))\n",
    "    # .... YOUR CODE FOR TASK 7 HERE ...."
   ]
  },
  {
   "cell_type": "markdown",
   "metadata": {
    "dc": {
     "key": "52"
    },
    "deletable": false,
    "editable": false,
    "run_control": {
     "frozen": true
    },
    "tags": [
     "context"
    ]
   },
   "source": [
    "## 8. Showing uncertainty\n",
    "<p>Now that we have a measure of uncertainty for each levels' difficulty estimate let's use <em>error bars</em> to show this uncertainty in the plot. We will set the length of the error bars to one standard error. The upper limit and the lower limit of each error bar should then be <em>p<sub>win</sub></em> + <em>σ<sub>error</sub></em> and <em>p<sub>win</sub></em> - <em>σ<sub>error</sub></em>, respectively.</p>"
   ]
  },
  {
   "cell_type": "code",
   "execution_count": 66,
   "metadata": {
    "dc": {
     "key": "52"
    },
    "tags": [
     "sample_code"
    ]
   },
   "outputs": [
    {
     "data": {},
     "metadata": {},
     "output_type": "display_data"
    },
    {
     "data": {
      "image/png": "[encoded data removed]",
      "text/plain": [
       "plot without title"
      ]
     },
     "metadata": {},
     "output_type": "display_data"
    }
   ],
   "source": [
    "# Adding standard error bars\n",
    "# .... YOUR CODE COPIED FROM TASK 6 ....\n",
    "# .... YOUR CODE FOR TASK 8 ....\n",
    "ggplot(difficulty, aes(x = level, y = p_win))+\n",
    "geom_point()+ geom_line()+ scale_x_continuous(breaks = seq(1,15,1)) +\n",
    "scale_y_continuous(labels = scales::percent_format(accuracy = 1))+geom_hline(yintercept = 0.10)+\n",
    "geom_errorbar(aes(ymin = (p_win - error),ymax = (p_win + error)))\n"
   ]
  },
  {
   "cell_type": "markdown",
   "metadata": {
    "dc": {
     "key": "59"
    },
    "deletable": false,
    "editable": false,
    "run_control": {
     "frozen": true
    },
    "tags": [
     "context"
    ]
   },
   "source": [
    "## 9. A final metric\n",
    "<p>It looks like our difficulty estimates are pretty precise! Using this plot, a level designer can quickly spot where the hard levels are and also see if there seems to be too many hard levels in the episode.</p>\n",
    "<p>One question a level designer might ask is: \"How likely is it that a player will complete the episode without losing a single time?\" Let's calculate this using the estimated level difficulties!</p>"
   ]
  },
  {
   "cell_type": "code",
   "execution_count": 68,
   "metadata": {
    "dc": {
     "key": "59"
    },
    "tags": [
     "sample_code"
    ]
   },
   "outputs": [
    {
     "name": "stdout",
     "output_type": "stream",
     "text": [
      "[1] 9.447141e-12\n"
     ]
    }
   ],
   "source": [
    "# The probability of completing the episode without losing a single time\n",
    "p <- prod(difficulty$p_win)\n",
    "\n",
    "# Printing it out\n",
    "print(p)"
   ]
  },
  {
   "cell_type": "markdown",
   "metadata": {
    "dc": {
     "key": "66"
    },
    "deletable": false,
    "editable": false,
    "run_control": {
     "frozen": true
    },
    "tags": [
     "context"
    ]
   },
   "source": [
    "## 10. Should our level designer worry?\n",
    "<p>Given the probability we just calculated, should our level designer worry about that a lot of players might complete the episode in one attempt?</p>"
   ]
  },
  {
   "cell_type": "code",
   "execution_count": 70,
   "metadata": {
    "collapsed": true,
    "dc": {
     "key": "66"
    },
    "tags": [
     "sample_code"
    ]
   },
   "outputs": [],
   "source": [
    "# Should our level designer worry about that a lot of \n",
    "# players will complete the episode in one attempt?\n",
    "should_the_designer_worry = FALSE # TRUE / FALSE"
   ]
  }
 ],
 "metadata": {
  "kernelspec": {
   "display_name": "R",
   "language": "R",
   "name": "ir"
  },
  "language_info": {
   "codemirror_mode": "r",
   "file_extension": ".r",
   "mimetype": "text/x-r-source",
   "name": "R",
   "pygments_lexer": "r",
   "version": "3.6.0"
  }
 },
 "nbformat": 4,
 "nbformat_minor": 2
}
